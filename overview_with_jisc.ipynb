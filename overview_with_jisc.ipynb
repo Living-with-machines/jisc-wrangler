{
 "cells": [
  {
   "cell_type": "code",
   "execution_count": 82,
   "metadata": {},
   "outputs": [],
   "source": [
    "import pandas as pd"
   ]
  },
  {
   "cell_type": "markdown",
   "metadata": {},
   "source": [
    "Loading the dataframe with abbreviated codes and data ranges. Months were converted to numbers."
   ]
  },
  {
   "cell_type": "code",
   "execution_count": 119,
   "metadata": {},
   "outputs": [],
   "source": [
    "jisc_meta = pd.read_csv('jisc-wrangler/data/title_code_lookup.csv', sep='|')"
   ]
  },
  {
   "cell_type": "markdown",
   "metadata": {},
   "source": [
    "Loading the newspaper overview table, splitting values in the `AcquiredYears` column. Then we create a row for each year using the `.explode()` method."
   ]
  },
  {
   "cell_type": "code",
   "execution_count": 121,
   "metadata": {},
   "outputs": [],
   "source": [
    "\n",
    "newspaper_overview = pd.read_csv('jisc-wrangler/data/newspapers_overview.csv',sep=',')\n",
    "newspaper_overview['AcquiredYears'] = newspaper_overview['AcquiredYears'].str.split()\n",
    "newspaper_by_year = newspaper_overview.explode('AcquiredYears')\n"
   ]
  },
  {
   "cell_type": "markdown",
   "metadata": {},
   "source": [
    "We assume (for now) that each newspapers in the overview spreadsheet runs for the whole year. We add first of January and end of December as start/end years."
   ]
  },
  {
   "cell_type": "code",
   "execution_count": 122,
   "metadata": {},
   "outputs": [],
   "source": [
    "\n",
    "newspaper_by_year['Year'] = newspaper_by_year['AcquiredYears']\n",
    "newspaper_by_year['StartMonth'] = 1\n",
    "newspaper_by_year['StartDay'] = 1\n",
    "newspaper_by_year['EndMonth'] = 12\n",
    "newspaper_by_year['EndDay'] = 12\n"
   ]
  },
  {
   "cell_type": "markdown",
   "metadata": {},
   "source": [
    "For each row in the JISC overview table, add a columns that shows the year range between `StartYear` and `EndYear`. The year range is saved as a list in the `Year` column. Subsequently we create a row for each year with `.explode()`."
   ]
  },
  {
   "cell_type": "code",
   "execution_count": 131,
   "metadata": {},
   "outputs": [],
   "source": [
    "jisc_meta['Year'] = jisc_meta.apply(\n",
    "                        lambda x: list(range(x.StartYear,x.EndYear+1)),\n",
    "                                 axis=1)\n",
    "jm = jisc_meta.explode('Year')\n"
   ]
  },
  {
   "cell_type": "markdown",
   "metadata": {},
   "source": [
    "If the value for `Year` is not the first year the newspaper appeared, use first of January as start the month/day. Same logic is applied to `EndMonth` and `EndDay`."
   ]
  },
  {
   "cell_type": "code",
   "execution_count": 132,
   "metadata": {},
   "outputs": [],
   "source": [
    "jm.loc[jm['StartYear'] != jm['Year'],'StartMonth'] = 1\n",
    "jm.loc[jm['StartYear'] != jm['Year'],'StartDay'] = 1\n",
    "jm.loc[jm['EndYear'] != jm['Year'],'EndMonth'] = 12\n",
    "jm.loc[jm['EndYear'] != jm['Year'],'EndDay'] = 31"
   ]
  },
  {
   "cell_type": "markdown",
   "metadata": {},
   "source": [
    "Add additional columns."
   ]
  },
  {
   "cell_type": "code",
   "execution_count": 133,
   "metadata": {},
   "outputs": [],
   "source": [
    "jm['Collection'] = 'JISC'\n",
    "jm['UK'] = True"
   ]
  },
  {
   "cell_type": "code",
   "execution_count": 135,
   "metadata": {},
   "outputs": [],
   "source": [
    "# remove columns we won't need in the future\n",
    "jm.drop(['StartYear','EndYear'],axis=1,inplace=True)\n",
    "# change NLP to seven numbers code\n",
    "jm['NLP'] = jm.NLP.apply(lambda x: str(x).zfill(7))"
   ]
  },
  {
   "cell_type": "markdown",
   "metadata": {},
   "source": [
    "We can enrich the JISC newspapers with information from the BL newspaper titles spreadsheet."
   ]
  },
  {
   "cell_type": "code",
   "execution_count": 130,
   "metadata": {},
   "outputs": [],
   "source": [
    "bl_meta = pd.read_excel('jisc-wrangler/data/UK_Ireland_Newspapers_Title_Level_List_v01.xlsx',\n",
    "                        sheet_name='Title-level list')\n",
    "# select columns we want to add\n",
    "bl_subs = bl_meta[['Publication.title','NLP','First.geographical.subject.heading']].drop_duplicates()\n",
    "# change columns names so they match the newspaper overview dataframe\n",
    "bl_subs.columns = ['Title','NLP','City']"
   ]
  },
  {
   "cell_type": "markdown",
   "metadata": {},
   "source": [
    "Merge JISC metadata with the BL catalogue information, using the NLP as join key."
   ]
  },
  {
   "cell_type": "code",
   "execution_count": 136,
   "metadata": {},
   "outputs": [
    {
     "name": "stdout",
     "output_type": "stream",
     "text": [
      "(4635, 9)\n",
      "(4635, 11)\n"
     ]
    }
   ],
   "source": [
    "print(jm.shape)\n",
    "jm_merged = jm.merge(bl_subs,left_on='NLP',right_on='NLP', how='left')\n",
    "print(jm_merged.shape)"
   ]
  },
  {
   "cell_type": "code",
   "execution_count": 137,
   "metadata": {},
   "outputs": [
    {
     "data": {
      "text/plain": [
       "array(['ODFW ', 'RDNP '], dtype=object)"
      ]
     },
     "execution_count": 137,
     "metadata": {},
     "output_type": "execute_result"
    }
   ],
   "source": [
    "# this fails for the newspapers?? why?\n",
    "jm_merged[jm_merged.Title.isnull()].Abbr.unique()"
   ]
  },
  {
   "cell_type": "code",
   "execution_count": null,
   "metadata": {},
   "outputs": [],
   "source": [
    "all_newspapers =pd.concat([newspaper_by_year,jm_merged])\n"
   ]
  }
 ],
 "metadata": {
  "kernelspec": {
   "display_name": "Python 3.7.5 ('py37torch')",
   "language": "python",
   "name": "python3"
  },
  "language_info": {
   "codemirror_mode": {
    "name": "ipython",
    "version": 3
   },
   "file_extension": ".py",
   "mimetype": "text/x-python",
   "name": "python",
   "nbconvert_exporter": "python",
   "pygments_lexer": "ipython3",
   "version": "3.7.5"
  },
  "orig_nbformat": 4,
  "vscode": {
   "interpreter": {
    "hash": "791eb688b55125a1a131e4dff169df1c5823cb5a8d06a5925ed8db7119bfb317"
   }
  }
 },
 "nbformat": 4,
 "nbformat_minor": 2
}
